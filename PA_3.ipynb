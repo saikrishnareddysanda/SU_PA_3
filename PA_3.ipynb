{
  "nbformat": 4,
  "nbformat_minor": 0,
  "metadata": {
    "colab": {
      "provenance": [],
      "gpuType": "T4"
    },
    "kernelspec": {
      "name": "python3",
      "display_name": "Python 3"
    },
    "language_info": {
      "name": "python"
    },
    "accelerator": "GPU"
  },
  "cells": [
    {
      "cell_type": "code",
      "execution_count": 2,
      "metadata": {
        "colab": {
          "base_uri": "https://localhost:8080/"
        },
        "id": "zYOGoGEpn1Lt",
        "outputId": "c96e2b25-f104-4824-ab0c-d4a3bc7df1aa"
      },
      "outputs": [
        {
          "output_type": "stream",
          "name": "stdout",
          "text": [
            "Mounted at /content/drive\n"
          ]
        }
      ],
      "source": [
        "from google.colab import drive\n",
        "drive.mount('/content/drive', force_remount=True)"
      ]
    },
    {
      "cell_type": "code",
      "source": [
        "import zipfile"
      ],
      "metadata": {
        "id": "MS4uHeuhpXBU"
      },
      "execution_count": 3,
      "outputs": []
    },
    {
      "cell_type": "markdown",
      "source": [
        "# Get Dataset"
      ],
      "metadata": {
        "id": "i2HjYH5opy5x"
      }
    },
    {
      "cell_type": "code",
      "source": [
        "def unzip_file(zip_file, extract_to):\n",
        "    with zipfile.ZipFile(zip_file, 'r') as zip_ref:\n",
        "        zip_ref.extractall(extract_to)\n",
        "\n",
        "zip_file = '/content/drive/MyDrive/SU/Dataset_Speech_Assignment.zip'\n",
        "extract_to = 'Dataset'\n",
        "unzip_file(zip_file, extract_to)"
      ],
      "metadata": {
        "id": "Pa2QJiBeo7tR"
      },
      "execution_count": 4,
      "outputs": []
    },
    {
      "cell_type": "markdown",
      "source": [
        "# Install Anaconda and setup env"
      ],
      "metadata": {
        "id": "JoD2Q47GaRyg"
      }
    },
    {
      "cell_type": "code",
      "source": [
        "!echo $PYTHONPATH"
      ],
      "metadata": {
        "colab": {
          "base_uri": "https://localhost:8080/"
        },
        "id": "XaTOJ8HRLimc",
        "outputId": "b71db141-e4b5-41cc-d3b2-2557a85b5293"
      },
      "execution_count": 5,
      "outputs": [
        {
          "output_type": "stream",
          "name": "stdout",
          "text": [
            "/env/python\n"
          ]
        }
      ]
    },
    {
      "cell_type": "code",
      "source": [
        "%env PYTHONPATH = # /env/python"
      ],
      "metadata": {
        "colab": {
          "base_uri": "https://localhost:8080/"
        },
        "id": "JKXQWz4XLPYo",
        "outputId": "8a255bd4-eb58-4a6b-91f1-f10fd8a720bb"
      },
      "execution_count": 6,
      "outputs": [
        {
          "output_type": "stream",
          "name": "stdout",
          "text": [
            "env: PYTHONPATH=# /env/python\n"
          ]
        }
      ]
    },
    {
      "cell_type": "code",
      "source": [
        "!wget https://repo.anaconda.com/miniconda/Miniconda3-py38_4.12.0-Linux-x86_64.sh\n",
        "!chmod +x Miniconda3-py38_4.12.0-Linux-x86_64.sh\n",
        "!./Miniconda3-py38_4.12.0-Linux-x86_64.sh -b -f -p /usr/local\n",
        "!conda update conda"
      ],
      "metadata": {
        "colab": {
          "base_uri": "https://localhost:8080/"
        },
        "id": "6thVJ4KgDHH3",
        "outputId": "36f4438a-e309-4cdd-c9a4-7fc78bcf8ac2"
      },
      "execution_count": 7,
      "outputs": [
        {
          "output_type": "stream",
          "name": "stdout",
          "text": [
            "--2024-05-01 12:55:39--  https://repo.anaconda.com/miniconda/Miniconda3-py38_4.12.0-Linux-x86_64.sh\n",
            "Resolving repo.anaconda.com (repo.anaconda.com)... 104.16.191.158, 104.16.32.241, 2606:4700::6810:20f1, ...\n",
            "Connecting to repo.anaconda.com (repo.anaconda.com)|104.16.191.158|:443... connected.\n",
            "HTTP request sent, awaiting response... 200 OK\n",
            "Length: 76120962 (73M) [application/x-sh]\n",
            "Saving to: ‘Miniconda3-py38_4.12.0-Linux-x86_64.sh’\n",
            "\n",
            "Miniconda3-py38_4.1 100%[===================>]  72.59M  46.6MB/s    in 1.6s    \n",
            "\n",
            "2024-05-01 12:55:41 (46.6 MB/s) - ‘Miniconda3-py38_4.12.0-Linux-x86_64.sh’ saved [76120962/76120962]\n",
            "\n",
            "PREFIX=/usr/local\n",
            "Unpacking payload ...\n",
            "Collecting package metadata (current_repodata.json): - \b\b\\ \b\bdone\n",
            "Solving environment: / \b\b- \b\b\\ \b\bdone\n",
            "\n",
            "## Package Plan ##\n",
            "\n",
            "  environment location: /usr/local\n",
            "\n",
            "  added / updated specs:\n",
            "    - _libgcc_mutex==0.1=main\n",
            "    - _openmp_mutex==4.5=1_gnu\n",
            "    - brotlipy==0.7.0=py38h27cfd23_1003\n",
            "    - ca-certificates==2022.3.29=h06a4308_1\n",
            "    - certifi==2021.10.8=py38h06a4308_2\n",
            "    - cffi==1.15.0=py38hd667e15_1\n",
            "    - charset-normalizer==2.0.4=pyhd3eb1b0_0\n",
            "    - colorama==0.4.4=pyhd3eb1b0_0\n",
            "    - conda-content-trust==0.1.1=pyhd3eb1b0_0\n",
            "    - conda-package-handling==1.8.1=py38h7f8727e_0\n",
            "    - conda==4.12.0=py38h06a4308_0\n",
            "    - cryptography==36.0.0=py38h9ce1e76_0\n",
            "    - idna==3.3=pyhd3eb1b0_0\n",
            "    - ld_impl_linux-64==2.35.1=h7274673_9\n",
            "    - libffi==3.3=he6710b0_2\n",
            "    - libgcc-ng==9.3.0=h5101ec6_17\n",
            "    - libgomp==9.3.0=h5101ec6_17\n",
            "    - libstdcxx-ng==9.3.0=hd4cf53a_17\n",
            "    - ncurses==6.3=h7f8727e_2\n",
            "    - openssl==1.1.1n=h7f8727e_0\n",
            "    - pip==21.2.4=py38h06a4308_0\n",
            "    - pycosat==0.6.3=py38h7b6447c_1\n",
            "    - pycparser==2.21=pyhd3eb1b0_0\n",
            "    - pyopenssl==22.0.0=pyhd3eb1b0_0\n",
            "    - pysocks==1.7.1=py38h06a4308_0\n",
            "    - python==3.8.13=h12debd9_0\n",
            "    - readline==8.1.2=h7f8727e_1\n",
            "    - requests==2.27.1=pyhd3eb1b0_0\n",
            "    - ruamel_yaml==0.15.100=py38h27cfd23_0\n",
            "    - setuptools==61.2.0=py38h06a4308_0\n",
            "    - six==1.16.0=pyhd3eb1b0_1\n",
            "    - sqlite==3.38.2=hc218d9a_0\n",
            "    - tk==8.6.11=h1ccaba5_0\n",
            "    - tqdm==4.63.0=pyhd3eb1b0_0\n",
            "    - urllib3==1.26.8=pyhd3eb1b0_0\n",
            "    - wheel==0.37.1=pyhd3eb1b0_0\n",
            "    - xz==5.2.5=h7b6447c_0\n",
            "    - yaml==0.2.5=h7b6447c_0\n",
            "    - zlib==1.2.12=h7f8727e_1\n",
            "\n",
            "\n",
            "The following NEW packages will be INSTALLED:\n",
            "\n",
            "  _libgcc_mutex      pkgs/main/linux-64::_libgcc_mutex-0.1-main\n",
            "  _openmp_mutex      pkgs/main/linux-64::_openmp_mutex-4.5-1_gnu\n",
            "  brotlipy           pkgs/main/linux-64::brotlipy-0.7.0-py38h27cfd23_1003\n",
            "  ca-certificates    pkgs/main/linux-64::ca-certificates-2022.3.29-h06a4308_1\n",
            "  certifi            pkgs/main/linux-64::certifi-2021.10.8-py38h06a4308_2\n",
            "  cffi               pkgs/main/linux-64::cffi-1.15.0-py38hd667e15_1\n",
            "  charset-normalizer pkgs/main/noarch::charset-normalizer-2.0.4-pyhd3eb1b0_0\n",
            "  colorama           pkgs/main/noarch::colorama-0.4.4-pyhd3eb1b0_0\n",
            "  conda              pkgs/main/linux-64::conda-4.12.0-py38h06a4308_0\n",
            "  conda-content-tru~ pkgs/main/noarch::conda-content-trust-0.1.1-pyhd3eb1b0_0\n",
            "  conda-package-han~ pkgs/main/linux-64::conda-package-handling-1.8.1-py38h7f8727e_0\n",
            "  cryptography       pkgs/main/linux-64::cryptography-36.0.0-py38h9ce1e76_0\n",
            "  idna               pkgs/main/noarch::idna-3.3-pyhd3eb1b0_0\n",
            "  ld_impl_linux-64   pkgs/main/linux-64::ld_impl_linux-64-2.35.1-h7274673_9\n",
            "  libffi             pkgs/main/linux-64::libffi-3.3-he6710b0_2\n",
            "  libgcc-ng          pkgs/main/linux-64::libgcc-ng-9.3.0-h5101ec6_17\n",
            "  libgomp            pkgs/main/linux-64::libgomp-9.3.0-h5101ec6_17\n",
            "  libstdcxx-ng       pkgs/main/linux-64::libstdcxx-ng-9.3.0-hd4cf53a_17\n",
            "  ncurses            pkgs/main/linux-64::ncurses-6.3-h7f8727e_2\n",
            "  openssl            pkgs/main/linux-64::openssl-1.1.1n-h7f8727e_0\n",
            "  pip                pkgs/main/linux-64::pip-21.2.4-py38h06a4308_0\n",
            "  pycosat            pkgs/main/linux-64::pycosat-0.6.3-py38h7b6447c_1\n",
            "  pycparser          pkgs/main/noarch::pycparser-2.21-pyhd3eb1b0_0\n",
            "  pyopenssl          pkgs/main/noarch::pyopenssl-22.0.0-pyhd3eb1b0_0\n",
            "  pysocks            pkgs/main/linux-64::pysocks-1.7.1-py38h06a4308_0\n",
            "  python             pkgs/main/linux-64::python-3.8.13-h12debd9_0\n",
            "  readline           pkgs/main/linux-64::readline-8.1.2-h7f8727e_1\n",
            "  requests           pkgs/main/noarch::requests-2.27.1-pyhd3eb1b0_0\n",
            "  ruamel_yaml        pkgs/main/linux-64::ruamel_yaml-0.15.100-py38h27cfd23_0\n",
            "  setuptools         pkgs/main/linux-64::setuptools-61.2.0-py38h06a4308_0\n",
            "  six                pkgs/main/noarch::six-1.16.0-pyhd3eb1b0_1\n",
            "  sqlite             pkgs/main/linux-64::sqlite-3.38.2-hc218d9a_0\n",
            "  tk                 pkgs/main/linux-64::tk-8.6.11-h1ccaba5_0\n",
            "  tqdm               pkgs/main/noarch::tqdm-4.63.0-pyhd3eb1b0_0\n",
            "  urllib3            pkgs/main/noarch::urllib3-1.26.8-pyhd3eb1b0_0\n",
            "  wheel              pkgs/main/noarch::wheel-0.37.1-pyhd3eb1b0_0\n",
            "  xz                 pkgs/main/linux-64::xz-5.2.5-h7b6447c_0\n",
            "  yaml               pkgs/main/linux-64::yaml-0.2.5-h7b6447c_0\n",
            "  zlib               pkgs/main/linux-64::zlib-1.2.12-h7f8727e_1\n",
            "\n",
            "\n",
            "Preparing transaction: / \b\b- \b\b\\ \b\bdone\n",
            "Executing transaction: / \b\b- \b\b\\ \b\b| \b\b/ \b\b- \b\b\\ \b\b| \b\b/ \b\b- \b\b\\ \b\b| \b\b/ \b\b- \b\b\\ \b\b| \b\b/ \b\b- \b\bdone\n",
            "installation finished.\n",
            "WARNING:\n",
            "    You currently have a PYTHONPATH environment variable set. This may cause\n",
            "    unexpected behavior when running the Python interpreter in Miniconda3.\n",
            "    For best results, please verify that your PYTHONPATH only points to\n",
            "    directories of packages that are compatible with the Python interpreter\n",
            "    in Miniconda3: /usr/local\n",
            "Collecting package metadata (current_repodata.json): - \b\b\\ \b\b| \b\b/ \b\b- \b\b\\ \b\b| \b\b/ \b\b- \b\b\\ \b\b| \b\b/ \b\b- \b\b\\ \b\b| \b\b/ \b\b- \b\b\\ \b\b| \b\b/ \b\b- \b\b\\ \b\b| \b\b/ \b\b- \b\b\\ \b\b| \b\b/ \b\b- \b\b\\ \b\b| \b\b/ \b\b- \b\b\\ \b\b| \b\b/ \b\b- \b\b\\ \b\b| \b\b/ \b\b- \b\b\\ \b\bdone\n",
            "Solving environment: / \b\b- \b\b\\ \b\b| \b\b/ \b\b- \b\b\\ \b\b| \b\b/ \b\b- \b\b\\ \b\b| \b\b/ \b\b- \b\b\\ \b\b| \b\b/ \b\b- \b\b\\ \b\b| \b\b/ \b\b- \b\b\\ \b\b| \b\b/ \b\b- \b\b\\ \b\b| \b\b/ \b\b- \b\b\\ \b\b| \b\bdone\n",
            "\n",
            "\n",
            "==> WARNING: A newer version of conda exists. <==\n",
            "  current version: 4.12.0\n",
            "  latest version: 24.4.0\n",
            "\n",
            "Please update conda by running\n",
            "\n",
            "    $ conda update -n base -c defaults conda\n",
            "\n",
            "\n",
            "\n",
            "## Package Plan ##\n",
            "\n",
            "  environment location: /usr/local\n",
            "\n",
            "  added / updated specs:\n",
            "    - conda\n",
            "\n",
            "\n",
            "The following packages will be downloaded:\n",
            "\n",
            "    package                    |            build\n",
            "    ---------------------------|-----------------\n",
            "    _openmp_mutex-5.1          |            1_gnu          21 KB\n",
            "    brotli-python-1.0.9        |   py38h6a678d5_8         356 KB\n",
            "    ca-certificates-2024.3.11  |       h06a4308_0         127 KB\n",
            "    certifi-2024.2.2           |   py38h06a4308_0         159 KB\n",
            "    cffi-1.16.0                |   py38h5eee18b_1         250 KB\n",
            "    conda-package-handling-2.2.0|   py38h06a4308_1         267 KB\n",
            "    conda-package-streaming-0.9.0|   py38h06a4308_0          27 KB\n",
            "    cryptography-42.0.5        |   py38hdda0065_0         2.1 MB\n",
            "    idna-3.7                   |   py38h06a4308_0         113 KB\n",
            "    ld_impl_linux-64-2.38      |       h1181459_1         654 KB\n",
            "    libffi-3.4.4               |       h6a678d5_1         141 KB\n",
            "    libgcc-ng-11.2.0           |       h1234567_1         5.3 MB\n",
            "    libgomp-11.2.0             |       h1234567_1         474 KB\n",
            "    libstdcxx-ng-11.2.0        |       h1234567_1         4.7 MB\n",
            "    ncurses-6.4                |       h6a678d5_0         914 KB\n",
            "    openssl-3.0.13             |       h7f8727e_0         5.2 MB\n",
            "    pip-23.3.1                 |   py38h06a4308_0         2.6 MB\n",
            "    pycosat-0.6.6              |   py38h5eee18b_0          93 KB\n",
            "    pyopenssl-24.0.0           |   py38h06a4308_0          98 KB\n",
            "    python-3.8.19              |       h955ad1f_0        23.8 MB\n",
            "    readline-8.2               |       h5eee18b_0         357 KB\n",
            "    requests-2.31.0            |   py38h06a4308_1          96 KB\n",
            "    setuptools-68.2.2          |   py38h06a4308_0         948 KB\n",
            "    sqlite-3.45.3              |       h5eee18b_0         1.2 MB\n",
            "    tk-8.6.12                  |       h1ccaba5_0         3.0 MB\n",
            "    urllib3-2.1.0              |   py38h06a4308_1         156 KB\n",
            "    wheel-0.41.2               |   py38h06a4308_0         108 KB\n",
            "    xz-5.4.6                   |       h5eee18b_0         651 KB\n",
            "    zlib-1.2.13                |       h5eee18b_0         103 KB\n",
            "    zstandard-0.19.0           |   py38h5eee18b_0         474 KB\n",
            "    ------------------------------------------------------------\n",
            "                                           Total:        54.4 MB\n",
            "\n",
            "The following NEW packages will be INSTALLED:\n",
            "\n",
            "  brotli-python      pkgs/main/linux-64::brotli-python-1.0.9-py38h6a678d5_8\n",
            "  conda-package-str~ pkgs/main/linux-64::conda-package-streaming-0.9.0-py38h06a4308_0\n",
            "  zstandard          pkgs/main/linux-64::zstandard-0.19.0-py38h5eee18b_0\n",
            "\n",
            "The following packages will be REMOVED:\n",
            "\n",
            "  brotlipy-0.7.0-py38h27cfd23_1003\n",
            "  colorama-0.4.4-pyhd3eb1b0_0\n",
            "  conda-content-trust-0.1.1-pyhd3eb1b0_0\n",
            "  six-1.16.0-pyhd3eb1b0_1\n",
            "  tqdm-4.63.0-pyhd3eb1b0_0\n",
            "\n",
            "The following packages will be UPDATED:\n",
            "\n",
            "  _openmp_mutex                                   4.5-1_gnu --> 5.1-1_gnu\n",
            "  ca-certificates                      2022.3.29-h06a4308_1 --> 2024.3.11-h06a4308_0\n",
            "  certifi                          2021.10.8-py38h06a4308_2 --> 2024.2.2-py38h06a4308_0\n",
            "  cffi                                1.15.0-py38hd667e15_1 --> 1.16.0-py38h5eee18b_1\n",
            "  conda-package-han~                   1.8.1-py38h7f8727e_0 --> 2.2.0-py38h06a4308_1\n",
            "  cryptography                        36.0.0-py38h9ce1e76_0 --> 42.0.5-py38hdda0065_0\n",
            "  idna               pkgs/main/noarch::idna-3.3-pyhd3eb1b0~ --> pkgs/main/linux-64::idna-3.7-py38h06a4308_0\n",
            "  ld_impl_linux-64                        2.35.1-h7274673_9 --> 2.38-h1181459_1\n",
            "  libffi                                     3.3-he6710b0_2 --> 3.4.4-h6a678d5_1\n",
            "  libgcc-ng                               9.3.0-h5101ec6_17 --> 11.2.0-h1234567_1\n",
            "  libgomp                                 9.3.0-h5101ec6_17 --> 11.2.0-h1234567_1\n",
            "  libstdcxx-ng                            9.3.0-hd4cf53a_17 --> 11.2.0-h1234567_1\n",
            "  ncurses                                    6.3-h7f8727e_2 --> 6.4-h6a678d5_0\n",
            "  openssl                                 1.1.1n-h7f8727e_0 --> 3.0.13-h7f8727e_0\n",
            "  pip                                 21.2.4-py38h06a4308_0 --> 23.3.1-py38h06a4308_0\n",
            "  pycosat                              0.6.3-py38h7b6447c_1 --> 0.6.6-py38h5eee18b_0\n",
            "  pyopenssl          pkgs/main/noarch::pyopenssl-22.0.0-py~ --> pkgs/main/linux-64::pyopenssl-24.0.0-py38h06a4308_0\n",
            "  python                                  3.8.13-h12debd9_0 --> 3.8.19-h955ad1f_0\n",
            "  readline                                 8.1.2-h7f8727e_1 --> 8.2-h5eee18b_0\n",
            "  requests           pkgs/main/noarch::requests-2.27.1-pyh~ --> pkgs/main/linux-64::requests-2.31.0-py38h06a4308_1\n",
            "  setuptools                          61.2.0-py38h06a4308_0 --> 68.2.2-py38h06a4308_0\n",
            "  sqlite                                  3.38.2-hc218d9a_0 --> 3.45.3-h5eee18b_0\n",
            "  tk                                      8.6.11-h1ccaba5_0 --> 8.6.12-h1ccaba5_0\n",
            "  urllib3            pkgs/main/noarch::urllib3-1.26.8-pyhd~ --> pkgs/main/linux-64::urllib3-2.1.0-py38h06a4308_1\n",
            "  wheel              pkgs/main/noarch::wheel-0.37.1-pyhd3e~ --> pkgs/main/linux-64::wheel-0.41.2-py38h06a4308_0\n",
            "  xz                                       5.2.5-h7b6447c_0 --> 5.4.6-h5eee18b_0\n",
            "  zlib                                    1.2.12-h7f8727e_1 --> 1.2.13-h5eee18b_0\n",
            "\n",
            "\n",
            "Proceed ([y]/n)? y\n",
            "\n",
            "\n",
            "Downloading and Extracting Packages\n",
            "libgomp-11.2.0       | 474 KB    | : 100% 1.0/1 [00:00<00:00,  3.97it/s]\n",
            "xz-5.4.6             | 651 KB    | : 100% 1.0/1 [00:00<00:00,  5.56it/s]\n",
            "urllib3-2.1.0        | 156 KB    | : 100% 1.0/1 [00:00<00:00,  5.54it/s]\n",
            "libstdcxx-ng-11.2.0  | 4.7 MB    | : 100% 1.0/1 [00:00<00:00,  2.49it/s]               \n",
            "zlib-1.2.13          | 103 KB    | : 100% 1.0/1 [00:00<00:00,  6.10it/s]\n",
            "_openmp_mutex-5.1    | 21 KB     | : 100% 1.0/1 [00:00<00:00,  6.07it/s]\n",
            "ld_impl_linux-64-2.3 | 654 KB    | : 100% 1.0/1 [00:00<00:00,  4.30it/s]\n",
            "readline-8.2         | 357 KB    | : 100% 1.0/1 [00:00<00:00,  5.46it/s]\n",
            "zstandard-0.19.0     | 474 KB    | : 100% 1.0/1 [00:00<00:00,  5.49it/s]\n",
            "requests-2.31.0      | 96 KB     | : 100% 1.0/1 [00:00<00:00,  5.75it/s]\n",
            "tk-8.6.12            | 3.0 MB    | : 100% 1.0/1 [00:00<00:00,  3.10it/s]\n",
            "pycosat-0.6.6        | 93 KB     | : 100% 1.0/1 [00:00<00:00,  6.29it/s]\n",
            "pip-23.3.1           | 2.6 MB    | : 100% 1.0/1 [00:00<00:00,  2.48it/s]\n",
            "idna-3.7             | 113 KB    | : 100% 1.0/1 [00:00<00:00,  5.80it/s]\n",
            "certifi-2024.2.2     | 159 KB    | : 100% 1.0/1 [00:00<00:00,  6.30it/s]\n",
            "ncurses-6.4          | 914 KB    | : 100% 1.0/1 [00:00<00:00,  2.80it/s]\n",
            "wheel-0.41.2         | 108 KB    | : 100% 1.0/1 [00:00<00:00,  6.58it/s]\n",
            "libffi-3.4.4         | 141 KB    | : 100% 1.0/1 [00:00<00:00,  5.68it/s]\n",
            "sqlite-3.45.3        | 1.2 MB    | : 100% 1.0/1 [00:00<00:00,  5.70it/s]\n",
            "conda-package-handli | 267 KB    | : 100% 1.0/1 [00:00<00:00,  6.48it/s]\n",
            "brotli-python-1.0.9  | 356 KB    | : 100% 1.0/1 [00:00<00:00,  6.49it/s]\n",
            "conda-package-stream | 27 KB     | : 100% 1.0/1 [00:00<00:00,  6.69it/s]\n",
            "ca-certificates-2024 | 127 KB    | : 100% 1.0/1 [00:00<00:00,  6.95it/s]\n",
            "libgcc-ng-11.2.0     | 5.3 MB    | : 100% 1.0/1 [00:00<00:00,  2.52it/s]               \n",
            "cffi-1.16.0          | 250 KB    | : 100% 1.0/1 [00:00<00:00,  6.20it/s]\n",
            "python-3.8.19        | 23.8 MB   | : 100% 1.0/1 [00:01<00:00,  1.14s/it]               \n",
            "setuptools-68.2.2    | 948 KB    | : 100% 1.0/1 [00:00<00:00,  4.54it/s]\n",
            "cryptography-42.0.5  | 2.1 MB    | : 100% 1.0/1 [00:00<00:00,  4.50it/s]\n",
            "pyopenssl-24.0.0     | 98 KB     | : 100% 1.0/1 [00:00<00:00,  6.83it/s]\n",
            "openssl-3.0.13       | 5.2 MB    | : 100% 1.0/1 [00:00<00:00,  3.16it/s]               \n",
            "Preparing transaction: - \b\b\\ \b\b| \b\bdone\n",
            "Verifying transaction: - \b\b\\ \b\b| \b\b/ \b\b- \b\b\\ \b\b| \b\b/ \b\b- \b\b\\ \b\bdone\n",
            "Executing transaction: / \b\b- \b\b\\ \b\b| \b\b/ \b\b- \b\b\\ \b\b| \b\b/ \b\b- \b\b\\ \b\b| \b\b/ \b\b- \b\b\\ \b\b| \b\b/ \b\bdone\n"
          ]
        }
      ]
    },
    {
      "cell_type": "code",
      "source": [
        "import sys\n",
        "sys.path"
      ],
      "metadata": {
        "colab": {
          "base_uri": "https://localhost:8080/"
        },
        "id": "NJumwhHOL0ES",
        "outputId": "f5bb18f8-5586-4ccf-96eb-0ea51f051b72"
      },
      "execution_count": 8,
      "outputs": [
        {
          "output_type": "execute_result",
          "data": {
            "text/plain": [
              "['/content',\n",
              " '/env/python',\n",
              " '/usr/lib/python310.zip',\n",
              " '/usr/lib/python3.10',\n",
              " '/usr/lib/python3.10/lib-dynload',\n",
              " '',\n",
              " '/usr/local/lib/python3.10/dist-packages',\n",
              " '/usr/lib/python3/dist-packages',\n",
              " '/usr/local/lib/python3.10/dist-packages/IPython/extensions',\n",
              " '/root/.ipython']"
            ]
          },
          "metadata": {},
          "execution_count": 8
        }
      ]
    },
    {
      "cell_type": "code",
      "source": [
        "import sys\n",
        "sys.path.append('/usr/local/lib/python3.8/site-packages')"
      ],
      "metadata": {
        "id": "O_-BAkxYQ46j"
      },
      "execution_count": 9,
      "outputs": []
    },
    {
      "cell_type": "code",
      "source": [
        "!conda create -n SSL_Spoofing python=3.7"
      ],
      "metadata": {
        "colab": {
          "base_uri": "https://localhost:8080/"
        },
        "id": "M00ZZUn-Edl-",
        "outputId": "d6b4c06f-cdeb-4b27-ed9d-60aad2287b66"
      },
      "execution_count": 10,
      "outputs": [
        {
          "output_type": "stream",
          "name": "stdout",
          "text": [
            "Collecting package metadata (current_repodata.json): - \b\b\\ \b\b| \b\b/ \b\bdone\n",
            "Solving environment: \\ \b\bfailed with repodata from current_repodata.json, will retry with next repodata source.\n",
            "Collecting package metadata (repodata.json): / \b\b- \b\b\\ \b\b| \b\b/ \b\b- \b\b\\ \b\b| \b\b/ \b\b- \b\b\\ \b\b| \b\b/ \b\b- \b\b\\ \b\b| \b\b/ \b\b- \b\b\\ \b\b| \b\b/ \b\b- \b\b\\ \b\b| \b\b/ \b\b- \b\b\\ \b\b| \b\b/ \b\b- \b\b\\ \b\b| \b\b/ \b\b- \b\b\\ \b\b| \b\b/ \b\b- \b\b\\ \b\b| \b\b/ \b\b- \b\b\\ \b\b| \b\b/ \b\b- \b\b\\ \b\b| \b\b/ \b\b- \b\b\\ \b\b| \b\b/ \b\b- \b\b\\ \b\b| \b\b/ \b\b- \b\b\\ \b\b| \b\b/ \b\b- \b\b\\ \b\b| \b\b/ \b\b- \b\b\\ \b\b| \b\b/ \b\b- \b\b\\ \b\b| \b\bdone\n",
            "Solving environment: - \b\b\\ \b\b| \b\b/ \b\b- \b\b\\ \b\b| \b\bdone\n",
            "\n",
            "\n",
            "==> WARNING: A newer version of conda exists. <==\n",
            "  current version: 4.12.0\n",
            "  latest version: 24.4.0\n",
            "\n",
            "Please update conda by running\n",
            "\n",
            "    $ conda update -n base -c defaults conda\n",
            "\n",
            "\n",
            "\n",
            "## Package Plan ##\n",
            "\n",
            "  environment location: /usr/local/envs/SSL_Spoofing\n",
            "\n",
            "  added / updated specs:\n",
            "    - python=3.7\n",
            "\n",
            "\n",
            "The following packages will be downloaded:\n",
            "\n",
            "    package                    |            build\n",
            "    ---------------------------|-----------------\n",
            "    certifi-2022.12.7          |   py37h06a4308_0         150 KB\n",
            "    openssl-1.1.1w             |       h7f8727e_0         3.7 MB\n",
            "    pip-22.3.1                 |   py37h06a4308_0         2.7 MB\n",
            "    python-3.7.16              |       h7a1cb2a_0        44.8 MB\n",
            "    setuptools-65.6.3          |   py37h06a4308_0         1.1 MB\n",
            "    wheel-0.38.4               |   py37h06a4308_0          63 KB\n",
            "    ------------------------------------------------------------\n",
            "                                           Total:        52.6 MB\n",
            "\n",
            "The following NEW packages will be INSTALLED:\n",
            "\n",
            "  _libgcc_mutex      pkgs/main/linux-64::_libgcc_mutex-0.1-main\n",
            "  _openmp_mutex      pkgs/main/linux-64::_openmp_mutex-5.1-1_gnu\n",
            "  ca-certificates    pkgs/main/linux-64::ca-certificates-2024.3.11-h06a4308_0\n",
            "  certifi            pkgs/main/linux-64::certifi-2022.12.7-py37h06a4308_0\n",
            "  ld_impl_linux-64   pkgs/main/linux-64::ld_impl_linux-64-2.38-h1181459_1\n",
            "  libffi             pkgs/main/linux-64::libffi-3.4.4-h6a678d5_1\n",
            "  libgcc-ng          pkgs/main/linux-64::libgcc-ng-11.2.0-h1234567_1\n",
            "  libgomp            pkgs/main/linux-64::libgomp-11.2.0-h1234567_1\n",
            "  libstdcxx-ng       pkgs/main/linux-64::libstdcxx-ng-11.2.0-h1234567_1\n",
            "  ncurses            pkgs/main/linux-64::ncurses-6.4-h6a678d5_0\n",
            "  openssl            pkgs/main/linux-64::openssl-1.1.1w-h7f8727e_0\n",
            "  pip                pkgs/main/linux-64::pip-22.3.1-py37h06a4308_0\n",
            "  python             pkgs/main/linux-64::python-3.7.16-h7a1cb2a_0\n",
            "  readline           pkgs/main/linux-64::readline-8.2-h5eee18b_0\n",
            "  setuptools         pkgs/main/linux-64::setuptools-65.6.3-py37h06a4308_0\n",
            "  sqlite             pkgs/main/linux-64::sqlite-3.45.3-h5eee18b_0\n",
            "  tk                 pkgs/main/linux-64::tk-8.6.12-h1ccaba5_0\n",
            "  wheel              pkgs/main/linux-64::wheel-0.38.4-py37h06a4308_0\n",
            "  xz                 pkgs/main/linux-64::xz-5.4.6-h5eee18b_0\n",
            "  zlib               pkgs/main/linux-64::zlib-1.2.13-h5eee18b_0\n",
            "\n",
            "\n",
            "Proceed ([y]/n)? y\n",
            "\n",
            "\n",
            "Downloading and Extracting Packages\n",
            "openssl-1.1.1w       | 3.7 MB    | : 100% 1.0/1 [00:00<00:00,  3.39it/s]\n",
            "wheel-0.38.4         | 63 KB     | : 100% 1.0/1 [00:00<00:00, 18.93it/s]\n",
            "pip-22.3.1           | 2.7 MB    | : 100% 1.0/1 [00:00<00:00,  2.06it/s]\n",
            "certifi-2022.12.7    | 150 KB    | : 100% 1.0/1 [00:00<00:00, 11.82it/s]\n",
            "setuptools-65.6.3    | 1.1 MB    | : 100% 1.0/1 [00:00<00:00,  5.27it/s]\n",
            "python-3.7.16        | 44.8 MB   | : 100% 1.0/1 [00:01<00:00,  1.88s/it]               \n",
            "Preparing transaction: - \b\b\\ \b\b| \b\bdone\n",
            "Verifying transaction: - \b\b\\ \b\b| \b\b/ \b\b- \b\b\\ \b\b| \b\b/ \b\b- \b\bdone\n",
            "Executing transaction: | \b\b/ \b\b- \b\b\\ \b\b| \b\b/ \b\b- \b\bdone\n",
            "#\n",
            "# To activate this environment, use\n",
            "#\n",
            "#     $ conda activate SSL_Spoofing\n",
            "#\n",
            "# To deactivate an active environment, use\n",
            "#\n",
            "#     $ conda deactivate\n",
            "\n"
          ]
        }
      ]
    },
    {
      "cell_type": "code",
      "source": [
        "!source activate SSL_Spoofing"
      ],
      "metadata": {
        "id": "qz69P8M3EpKU"
      },
      "execution_count": 11,
      "outputs": []
    },
    {
      "cell_type": "markdown",
      "source": [
        "# Clone required repos and Install required packages"
      ],
      "metadata": {
        "id": "pt-ruxzduIkB"
      }
    },
    {
      "cell_type": "code",
      "source": [
        "!git clone https://github.com/TakHemlata/SSL_Anti-spoofing.git"
      ],
      "metadata": {
        "colab": {
          "base_uri": "https://localhost:8080/"
        },
        "id": "Z_O8ZKCOpmjg",
        "outputId": "8d0161d8-1e64-4e50-bbd6-bcc41057b314"
      },
      "execution_count": 12,
      "outputs": [
        {
          "output_type": "stream",
          "name": "stdout",
          "text": [
            "Cloning into 'SSL_Anti-spoofing'...\n",
            "remote: Enumerating objects: 1579, done.\u001b[K\n",
            "remote: Counting objects: 100% (90/90), done.\u001b[K\n",
            "remote: Compressing objects: 100% (42/42), done.\u001b[K\n",
            "remote: Total 1579 (delta 52), reused 82 (delta 48), pack-reused 1489\u001b[K\n",
            "Receiving objects: 100% (1579/1579), 30.57 MiB | 15.09 MiB/s, done.\n",
            "Resolving deltas: 100% (293/293), done.\n",
            "Updating files: 100% (1247/1247), done.\n"
          ]
        }
      ]
    },
    {
      "cell_type": "code",
      "source": [
        "%%shell\n",
        "eval \"$(conda shell.bash hook)\"\n",
        "conda activate SSL_Spoofing\n",
        "pip install torch==1.8.1+cu111 torchvision==0.9.1+cu111 torchaudio==0.8.1 -f https://download.pytorch.org/whl/torch_stable.html"
      ],
      "metadata": {
        "colab": {
          "base_uri": "https://localhost:8080/"
        },
        "id": "8Kfi5N7k84Nv",
        "outputId": "c9e18b3e-3c14-4710-81e3-54065f53ee0d"
      },
      "execution_count": 13,
      "outputs": [
        {
          "output_type": "stream",
          "name": "stdout",
          "text": [
            "Looking in links: https://download.pytorch.org/whl/torch_stable.html\n",
            "Collecting torch==1.8.1+cu111\n",
            "  Downloading https://download.pytorch.org/whl/cu111/torch-1.8.1%2Bcu111-cp37-cp37m-linux_x86_64.whl (1982.2 MB)\n",
            "\u001b[2K     \u001b[90m━━━━━━━━━━━━━━━━━━━━━━━━━━━━━━━━━━━━━━━━\u001b[0m \u001b[32m2.0/2.0 GB\u001b[0m \u001b[31m413.7 kB/s\u001b[0m eta \u001b[36m0:00:00\u001b[0m\n",
            "\u001b[?25hCollecting torchvision==0.9.1+cu111\n",
            "  Downloading https://download.pytorch.org/whl/cu111/torchvision-0.9.1%2Bcu111-cp37-cp37m-linux_x86_64.whl (17.6 MB)\n",
            "\u001b[2K     \u001b[90m━━━━━━━━━━━━━━━━━━━━━━━━━━━━━━━━━━━━━━━━\u001b[0m \u001b[32m17.6/17.6 MB\u001b[0m \u001b[31m45.7 MB/s\u001b[0m eta \u001b[36m0:00:00\u001b[0m\n",
            "\u001b[?25hCollecting torchaudio==0.8.1\n",
            "  Downloading torchaudio-0.8.1-cp37-cp37m-manylinux1_x86_64.whl (1.9 MB)\n",
            "\u001b[2K     \u001b[90m━━━━━━━━━━━━━━━━━━━━━━━━━━━━━━━━━━━━━━━━\u001b[0m \u001b[32m1.9/1.9 MB\u001b[0m \u001b[31m8.7 MB/s\u001b[0m eta \u001b[36m0:00:00\u001b[0m\n",
            "\u001b[?25hCollecting numpy\n",
            "  Downloading numpy-1.21.6-cp37-cp37m-manylinux_2_12_x86_64.manylinux2010_x86_64.whl (15.7 MB)\n",
            "\u001b[2K     \u001b[90m━━━━━━━━━━━━━━━━━━━━━━━━━━━━━━━━━━━━━━━━\u001b[0m \u001b[32m15.7/15.7 MB\u001b[0m \u001b[31m53.4 MB/s\u001b[0m eta \u001b[36m0:00:00\u001b[0m\n",
            "\u001b[?25hCollecting typing-extensions\n",
            "  Downloading https://download.pytorch.org/whl/typing_extensions-4.9.0-py3-none-any.whl (32 kB)\n",
            "Collecting pillow>=4.1.1\n",
            "  Downloading Pillow-9.5.0-cp37-cp37m-manylinux_2_28_x86_64.whl (3.4 MB)\n",
            "\u001b[2K     \u001b[90m━━━━━━━━━━━━━━━━━━━━━━━━━━━━━━━━━━━━━━━━\u001b[0m \u001b[32m3.4/3.4 MB\u001b[0m \u001b[31m58.1 MB/s\u001b[0m eta \u001b[36m0:00:00\u001b[0m\n",
            "\u001b[?25hCollecting typing-extensions\n",
            "  Downloading https://download.pytorch.org/whl/typing_extensions-4.8.0-py3-none-any.whl (31 kB)\n",
            "  Downloading typing_extensions-4.7.1-py3-none-any.whl (33 kB)\n",
            "Installing collected packages: typing-extensions, pillow, numpy, torch, torchvision, torchaudio\n",
            "Successfully installed numpy-1.21.6 pillow-9.5.0 torch-1.8.1+cu111 torchaudio-0.8.1 torchvision-0.9.1+cu111 typing-extensions-4.7.1\n",
            "\u001b[33mWARNING: Running pip as the 'root' user can result in broken permissions and conflicting behaviour with the system package manager. It is recommended to use a virtual environment instead: https://pip.pypa.io/warnings/venv\u001b[0m\u001b[33m\n",
            "\u001b[0m"
          ]
        },
        {
          "output_type": "execute_result",
          "data": {
            "text/plain": []
          },
          "metadata": {},
          "execution_count": 13
        }
      ]
    },
    {
      "cell_type": "code",
      "source": [
        "%cd /content/SSL_Anti-spoofing/fairseq-a54021305d6b3c4c5959ac9395135f63202db8f1"
      ],
      "metadata": {
        "colab": {
          "base_uri": "https://localhost:8080/"
        },
        "id": "Sw8qgAJHw3hH",
        "outputId": "1c93fc65-eb55-4926-a139-e0bab2b80a3c"
      },
      "execution_count": 14,
      "outputs": [
        {
          "output_type": "stream",
          "name": "stdout",
          "text": [
            "/content/SSL_Anti-spoofing/fairseq-a54021305d6b3c4c5959ac9395135f63202db8f1\n"
          ]
        }
      ]
    },
    {
      "cell_type": "code",
      "source": [
        "%%shell\n",
        "eval \"$(conda shell.bash hook)\"\n",
        "conda activate SSL_Spoofing\n",
        "pip install --editable ./"
      ],
      "metadata": {
        "colab": {
          "base_uri": "https://localhost:8080/"
        },
        "id": "B2Atbkzf17fG",
        "outputId": "812aef78-287f-47ad-dd35-73c6929e04bc"
      },
      "execution_count": 15,
      "outputs": [
        {
          "output_type": "stream",
          "name": "stdout",
          "text": [
            "Obtaining file:///content/SSL_Anti-spoofing/fairseq-a54021305d6b3c4c5959ac9395135f63202db8f1\n",
            "  Installing build dependencies ... \u001b[?25l\u001b[?25hdone\n",
            "  Checking if build backend supports build_editable ... \u001b[?25l\u001b[?25hdone\n",
            "  Getting requirements to build editable ... \u001b[?25l\u001b[?25hdone\n",
            "  Installing backend dependencies ... \u001b[?25l\u001b[?25hdone\n",
            "  Preparing editable metadata (pyproject.toml) ... \u001b[?25l\u001b[?25hdone\n",
            "Requirement already satisfied: torchaudio>=0.8.0 in /usr/local/envs/SSL_Spoofing/lib/python3.7/site-packages (from fairseq==1.0.0a0+4acaa61) (0.8.1)\n",
            "Collecting bitarray\n",
            "  Downloading bitarray-2.9.2-cp37-cp37m-manylinux_2_17_x86_64.manylinux2014_x86_64.whl (280 kB)\n",
            "\u001b[2K     \u001b[90m━━━━━━━━━━━━━━━━━━━━━━━━━━━━━━━━━━━━━━━━\u001b[0m \u001b[32m280.2/280.2 kB\u001b[0m \u001b[31m2.7 MB/s\u001b[0m eta \u001b[36m0:00:00\u001b[0m\n",
            "\u001b[?25hCollecting sacrebleu>=1.4.12\n",
            "  Downloading sacrebleu-2.4.2-py3-none-any.whl (106 kB)\n",
            "\u001b[2K     \u001b[90m━━━━━━━━━━━━━━━━━━━━━━━━━━━━━━━━━━━━━━━━\u001b[0m \u001b[32m106.7/106.7 kB\u001b[0m \u001b[31m16.0 MB/s\u001b[0m eta \u001b[36m0:00:00\u001b[0m\n",
            "\u001b[?25hCollecting hydra-core<1.1,>=1.0.7\n",
            "  Downloading hydra_core-1.0.7-py3-none-any.whl (123 kB)\n",
            "\u001b[2K     \u001b[90m━━━━━━━━━━━━━━━━━━━━━━━━━━━━━━━━━━━━━━━━\u001b[0m \u001b[32m123.8/123.8 kB\u001b[0m \u001b[31m16.8 MB/s\u001b[0m eta \u001b[36m0:00:00\u001b[0m\n",
            "\u001b[?25hRequirement already satisfied: numpy in /usr/local/envs/SSL_Spoofing/lib/python3.7/site-packages (from fairseq==1.0.0a0+4acaa61) (1.21.6)\n",
            "Collecting cython\n",
            "  Using cached Cython-3.0.10-cp37-cp37m-manylinux_2_17_x86_64.manylinux2014_x86_64.whl (3.6 MB)\n",
            "Requirement already satisfied: torch in /usr/local/envs/SSL_Spoofing/lib/python3.7/site-packages (from fairseq==1.0.0a0+4acaa61) (1.8.1+cu111)\n",
            "Collecting regex\n",
            "  Downloading regex-2024.4.16-cp37-cp37m-manylinux_2_17_x86_64.manylinux2014_x86_64.whl (761 kB)\n",
            "\u001b[2K     \u001b[90m━━━━━━━━━━━━━━━━━━━━━━━━━━━━━━━━━━━━━━━━\u001b[0m \u001b[32m761.6/761.6 kB\u001b[0m \u001b[31m13.4 MB/s\u001b[0m eta \u001b[36m0:00:00\u001b[0m\n",
            "\u001b[?25hCollecting omegaconf<2.1\n",
            "  Downloading omegaconf-2.0.6-py3-none-any.whl (36 kB)\n",
            "Collecting cffi\n",
            "  Downloading cffi-1.15.1-cp37-cp37m-manylinux_2_17_x86_64.manylinux2014_x86_64.whl (427 kB)\n",
            "\u001b[2K     \u001b[90m━━━━━━━━━━━━━━━━━━━━━━━━━━━━━━━━━━━━━━━━\u001b[0m \u001b[32m427.9/427.9 kB\u001b[0m \u001b[31m46.6 MB/s\u001b[0m eta \u001b[36m0:00:00\u001b[0m\n",
            "\u001b[?25hCollecting tqdm\n",
            "  Downloading tqdm-4.66.2-py3-none-any.whl (78 kB)\n",
            "\u001b[2K     \u001b[90m━━━━━━━━━━━━━━━━━━━━━━━━━━━━━━━━━━━━━━━━\u001b[0m \u001b[32m78.3/78.3 kB\u001b[0m \u001b[31m10.4 MB/s\u001b[0m eta \u001b[36m0:00:00\u001b[0m\n",
            "\u001b[?25hCollecting importlib-resources\n",
            "  Downloading importlib_resources-5.12.0-py3-none-any.whl (36 kB)\n",
            "Collecting antlr4-python3-runtime==4.8\n",
            "  Downloading antlr4-python3-runtime-4.8.tar.gz (112 kB)\n",
            "\u001b[2K     \u001b[90m━━━━━━━━━━━━━━━━━━━━━━━━━━━━━━━━━━━━━━━━\u001b[0m \u001b[32m112.4/112.4 kB\u001b[0m \u001b[31m16.8 MB/s\u001b[0m eta \u001b[36m0:00:00\u001b[0m\n",
            "\u001b[?25h  Preparing metadata (setup.py) ... \u001b[?25l\u001b[?25hdone\n",
            "Collecting PyYAML>=5.1.*\n",
            "  Downloading PyYAML-6.0.1-cp37-cp37m-manylinux_2_17_x86_64.manylinux2014_x86_64.whl (670 kB)\n",
            "\u001b[2K     \u001b[90m━━━━━━━━━━━━━━━━━━━━━━━━━━━━━━━━━━━━━━━━\u001b[0m \u001b[32m670.1/670.1 kB\u001b[0m \u001b[31m46.8 MB/s\u001b[0m eta \u001b[36m0:00:00\u001b[0m\n",
            "\u001b[?25hRequirement already satisfied: typing-extensions in /usr/local/envs/SSL_Spoofing/lib/python3.7/site-packages (from omegaconf<2.1->fairseq==1.0.0a0+4acaa61) (4.7.1)\n",
            "Collecting lxml\n",
            "  Downloading lxml-5.2.1-cp37-cp37m-manylinux_2_28_x86_64.whl (5.0 MB)\n",
            "\u001b[2K     \u001b[90m━━━━━━━━━━━━━━━━━━━━━━━━━━━━━━━━━━━━━━━━\u001b[0m \u001b[32m5.0/5.0 MB\u001b[0m \u001b[31m42.9 MB/s\u001b[0m eta \u001b[36m0:00:00\u001b[0m\n",
            "\u001b[?25hCollecting colorama\n",
            "  Downloading colorama-0.4.6-py2.py3-none-any.whl (25 kB)\n",
            "Collecting tabulate>=0.8.9\n",
            "  Downloading tabulate-0.9.0-py3-none-any.whl (35 kB)\n",
            "Collecting portalocker\n",
            "  Downloading portalocker-2.7.0-py2.py3-none-any.whl (15 kB)\n",
            "Collecting pycparser\n",
            "  Downloading pycparser-2.21-py2.py3-none-any.whl (118 kB)\n",
            "\u001b[2K     \u001b[90m━━━━━━━━━━━━━━━━━━━━━━━━━━━━━━━━━━━━━━━━\u001b[0m \u001b[32m118.7/118.7 kB\u001b[0m \u001b[31m13.5 MB/s\u001b[0m eta \u001b[36m0:00:00\u001b[0m\n",
            "\u001b[?25hCollecting zipp>=3.1.0\n",
            "  Downloading zipp-3.15.0-py3-none-any.whl (6.8 kB)\n",
            "Building wheels for collected packages: fairseq, antlr4-python3-runtime\n",
            "  Building editable for fairseq (pyproject.toml) ... \u001b[?25l\u001b[?25hdone\n",
            "  Created wheel for fairseq: filename=fairseq-1.0.0a0+4acaa61-0.editable-cp37-cp37m-linux_x86_64.whl size=9075 sha256=4a3aa5d48fce2a62e63ff9b2af91a3fe4f6c7841d54f04a1bd04796b51f26995\n",
            "  Stored in directory: /tmp/pip-ephem-wheel-cache-3378o4ub/wheels/a2/71/b6/4aba5f935a06897ab5cdd3df17360719ef92648fa09abaf134\n",
            "  Building wheel for antlr4-python3-runtime (setup.py) ... \u001b[?25l\u001b[?25hdone\n",
            "  Created wheel for antlr4-python3-runtime: filename=antlr4_python3_runtime-4.8-py3-none-any.whl size=141211 sha256=9b559901953c3d24fcef272443ce2d1415f78082fd6bd5a5422fba191911d9c6\n",
            "  Stored in directory: /root/.cache/pip/wheels/c9/ef/75/1b8c6588a8a8a15d5a9136608a9d65172a226577e7ae89da31\n",
            "Successfully built fairseq antlr4-python3-runtime\n",
            "Installing collected packages: bitarray, antlr4-python3-runtime, zipp, tqdm, tabulate, regex, PyYAML, pycparser, portalocker, lxml, cython, colorama, sacrebleu, omegaconf, importlib-resources, cffi, hydra-core, fairseq\n",
            "Successfully installed PyYAML-6.0.1 antlr4-python3-runtime-4.8 bitarray-2.9.2 cffi-1.15.1 colorama-0.4.6 cython-3.0.10 fairseq-1.0.0a0+4acaa61 hydra-core-1.0.7 importlib-resources-5.12.0 lxml-5.2.1 omegaconf-2.0.6 portalocker-2.7.0 pycparser-2.21 regex-2024.4.16 sacrebleu-2.4.2 tabulate-0.9.0 tqdm-4.66.2 zipp-3.15.0\n",
            "\u001b[33mWARNING: Running pip as the 'root' user can result in broken permissions and conflicting behaviour with the system package manager. It is recommended to use a virtual environment instead: https://pip.pypa.io/warnings/venv\u001b[0m\u001b[33m\n",
            "\u001b[0m"
          ]
        },
        {
          "output_type": "execute_result",
          "data": {
            "text/plain": []
          },
          "metadata": {},
          "execution_count": 15
        }
      ]
    },
    {
      "cell_type": "code",
      "source": [
        "%%bash\n",
        "source activate SSL_Spoofing\n",
        "conda env list\n",
        "python\n",
        "import sys\n",
        "print(sys.path)"
      ],
      "metadata": {
        "colab": {
          "base_uri": "https://localhost:8080/"
        },
        "id": "_N_4OzJmTaoJ",
        "outputId": "b1cfe74f-8bac-44e6-d2ac-8586ca551cc1"
      },
      "execution_count": 16,
      "outputs": [
        {
          "output_type": "stream",
          "name": "stdout",
          "text": [
            "# conda environments:\n",
            "#\n",
            "base                     /usr/local\n",
            "SSL_Spoofing          *  /usr/local/envs/SSL_Spoofing\n",
            "\n",
            "['', '/content/SSL_Anti-spoofing/fairseq-a54021305d6b3c4c5959ac9395135f63202db8f1/# /env/python', '/usr/local/envs/SSL_Spoofing/lib/python37.zip', '/usr/local/envs/SSL_Spoofing/lib/python3.7', '/usr/local/envs/SSL_Spoofing/lib/python3.7/lib-dynload', '/usr/local/envs/SSL_Spoofing/lib/python3.7/site-packages']\n"
          ]
        }
      ]
    },
    {
      "cell_type": "code",
      "source": [
        "%%bash\n",
        "source activate SSL_Spoofing\n",
        "pip list"
      ],
      "metadata": {
        "colab": {
          "base_uri": "https://localhost:8080/"
        },
        "id": "wS_v3sPvA0Gi",
        "outputId": "45be9c64-a1b2-4926-c4dd-1a29e7ccfb36"
      },
      "execution_count": 17,
      "outputs": [
        {
          "output_type": "stream",
          "name": "stdout",
          "text": [
            "Package                Version         Editable project location\n",
            "---------------------- --------------- ---------------------------------------------------------------------------\n",
            "antlr4-python3-runtime 4.8\n",
            "bitarray               2.9.2\n",
            "certifi                2022.12.7\n",
            "cffi                   1.15.1\n",
            "colorama               0.4.6\n",
            "Cython                 3.0.10\n",
            "fairseq                1.0.0a0+4acaa61 /content/SSL_Anti-spoofing/fairseq-a54021305d6b3c4c5959ac9395135f63202db8f1\n",
            "hydra-core             1.0.7\n",
            "importlib-resources    5.12.0\n",
            "lxml                   5.2.1\n",
            "numpy                  1.21.6\n",
            "omegaconf              2.0.6\n",
            "Pillow                 9.5.0\n",
            "pip                    22.3.1\n",
            "portalocker            2.7.0\n",
            "pycparser              2.21\n",
            "PyYAML                 6.0.1\n",
            "regex                  2024.4.16\n",
            "sacrebleu              2.4.2\n",
            "setuptools             65.6.3\n",
            "tabulate               0.9.0\n",
            "torch                  1.8.1+cu111\n",
            "torchaudio             0.8.1\n",
            "torchvision            0.9.1+cu111\n",
            "tqdm                   4.66.2\n",
            "typing_extensions      4.7.1\n",
            "wheel                  0.38.4\n",
            "zipp                   3.15.0\n"
          ]
        }
      ]
    },
    {
      "cell_type": "code",
      "source": [],
      "metadata": {
        "id": "XpywLVycQTE8"
      },
      "execution_count": null,
      "outputs": []
    },
    {
      "cell_type": "code",
      "source": [
        "%%bash\n",
        "source activate SSL_Spoofing\n",
        "pip install pandas\n",
        "pip install -r requirements.txt\n",
        "pip install tensorboard\n",
        "pip install tqdm"
      ],
      "metadata": {
        "colab": {
          "base_uri": "https://localhost:8080/"
        },
        "id": "KwHJeT-55gft",
        "outputId": "4d4ba7e1-ed54-4df3-9f26-6acf4681fe9c"
      },
      "execution_count": 25,
      "outputs": [
        {
          "output_type": "stream",
          "name": "stdout",
          "text": [
            "Requirement already satisfied: pandas in /usr/local/envs/SSL_Spoofing/lib/python3.7/site-packages (1.3.5)\n",
            "Requirement already satisfied: python-dateutil>=2.7.3 in /usr/local/envs/SSL_Spoofing/lib/python3.7/site-packages (from pandas) (2.9.0.post0)\n",
            "Requirement already satisfied: numpy>=1.17.3 in /usr/local/envs/SSL_Spoofing/lib/python3.7/site-packages (from pandas) (1.21.6)\n",
            "Requirement already satisfied: pytz>=2017.3 in /usr/local/envs/SSL_Spoofing/lib/python3.7/site-packages (from pandas) (2024.1)\n",
            "Requirement already satisfied: six>=1.5 in /usr/local/envs/SSL_Spoofing/lib/python3.7/site-packages (from python-dateutil>=2.7.3->pandas) (1.16.0)\n",
            "Collecting librosa==0.9.1\n",
            "  Using cached librosa-0.9.1-py3-none-any.whl (213 kB)\n",
            "Collecting tensorboardX==2.5\n",
            "  Using cached tensorboardX-2.5-py2.py3-none-any.whl (125 kB)\n",
            "Collecting packaging>=20.0\n",
            "  Using cached packaging-24.0-py3-none-any.whl (53 kB)\n",
            "Collecting audioread>=2.1.5\n",
            "  Using cached audioread-3.0.1-py3-none-any.whl (23 kB)\n",
            "Collecting scipy>=1.2.0\n",
            "  Using cached scipy-1.7.3-cp37-cp37m-manylinux_2_12_x86_64.manylinux2010_x86_64.whl (38.1 MB)\n",
            "Collecting decorator>=4.0.10\n",
            "  Using cached decorator-5.1.1-py3-none-any.whl (9.1 kB)\n",
            "Collecting scikit-learn>=0.19.1\n",
            "  Using cached scikit_learn-1.0.2-cp37-cp37m-manylinux_2_17_x86_64.manylinux2014_x86_64.whl (24.8 MB)\n",
            "Requirement already satisfied: numpy>=1.17.0 in /usr/local/envs/SSL_Spoofing/lib/python3.7/site-packages (from librosa==0.9.1->-r requirements.txt (line 2)) (1.21.6)\n",
            "Collecting joblib>=0.14\n",
            "  Using cached joblib-1.3.2-py3-none-any.whl (302 kB)\n",
            "Collecting pooch>=1.0\n",
            "  Using cached pooch-1.8.1-py3-none-any.whl (62 kB)\n",
            "Collecting numba>=0.45.1\n",
            "  Using cached numba-0.56.4-cp37-cp37m-manylinux2014_x86_64.manylinux_2_17_x86_64.whl (3.5 MB)\n",
            "Collecting resampy>=0.2.2\n",
            "  Using cached resampy-0.4.3-py3-none-any.whl (3.1 MB)\n",
            "Collecting soundfile>=0.10.2\n",
            "  Using cached soundfile-0.12.1-py2.py3-none-manylinux_2_31_x86_64.whl (1.2 MB)\n",
            "Requirement already satisfied: six in /usr/local/envs/SSL_Spoofing/lib/python3.7/site-packages (from tensorboardX==2.5->-r requirements.txt (line 3)) (1.16.0)\n",
            "Requirement already satisfied: protobuf>=3.8.0 in /usr/local/envs/SSL_Spoofing/lib/python3.7/site-packages (from tensorboardX==2.5->-r requirements.txt (line 3)) (3.20.3)\n",
            "Requirement already satisfied: importlib-metadata in /usr/local/envs/SSL_Spoofing/lib/python3.7/site-packages (from numba>=0.45.1->librosa==0.9.1->-r requirements.txt (line 2)) (6.7.0)\n",
            "Requirement already satisfied: setuptools in /usr/local/envs/SSL_Spoofing/lib/python3.7/site-packages (from numba>=0.45.1->librosa==0.9.1->-r requirements.txt (line 2)) (65.6.3)\n",
            "Collecting llvmlite<0.40,>=0.39.0dev0\n",
            "  Using cached llvmlite-0.39.1-cp37-cp37m-manylinux_2_17_x86_64.manylinux2014_x86_64.whl (34.6 MB)\n",
            "Requirement already satisfied: requests>=2.19.0 in /usr/local/envs/SSL_Spoofing/lib/python3.7/site-packages (from pooch>=1.0->librosa==0.9.1->-r requirements.txt (line 2)) (2.31.0)\n",
            "Collecting platformdirs>=2.5.0\n",
            "  Using cached platformdirs-4.0.0-py3-none-any.whl (17 kB)\n",
            "Requirement already satisfied: importlib-resources in /usr/local/envs/SSL_Spoofing/lib/python3.7/site-packages (from resampy>=0.2.2->librosa==0.9.1->-r requirements.txt (line 2)) (5.12.0)\n",
            "Collecting threadpoolctl>=2.0.0\n",
            "  Downloading threadpoolctl-3.1.0-py3-none-any.whl (14 kB)\n",
            "Requirement already satisfied: cffi>=1.0 in /usr/local/envs/SSL_Spoofing/lib/python3.7/site-packages (from soundfile>=0.10.2->librosa==0.9.1->-r requirements.txt (line 2)) (1.15.1)\n",
            "Requirement already satisfied: pycparser in /usr/local/envs/SSL_Spoofing/lib/python3.7/site-packages (from cffi>=1.0->soundfile>=0.10.2->librosa==0.9.1->-r requirements.txt (line 2)) (2.21)\n",
            "Requirement already satisfied: typing-extensions>=4.7.1 in /usr/local/envs/SSL_Spoofing/lib/python3.7/site-packages (from platformdirs>=2.5.0->pooch>=1.0->librosa==0.9.1->-r requirements.txt (line 2)) (4.7.1)\n",
            "Requirement already satisfied: certifi>=2017.4.17 in /usr/local/envs/SSL_Spoofing/lib/python3.7/site-packages (from requests>=2.19.0->pooch>=1.0->librosa==0.9.1->-r requirements.txt (line 2)) (2022.12.7)\n",
            "Requirement already satisfied: idna<4,>=2.5 in /usr/local/envs/SSL_Spoofing/lib/python3.7/site-packages (from requests>=2.19.0->pooch>=1.0->librosa==0.9.1->-r requirements.txt (line 2)) (3.7)\n",
            "Requirement already satisfied: charset-normalizer<4,>=2 in /usr/local/envs/SSL_Spoofing/lib/python3.7/site-packages (from requests>=2.19.0->pooch>=1.0->librosa==0.9.1->-r requirements.txt (line 2)) (3.3.2)\n",
            "Requirement already satisfied: urllib3<3,>=1.21.1 in /usr/local/envs/SSL_Spoofing/lib/python3.7/site-packages (from requests>=2.19.0->pooch>=1.0->librosa==0.9.1->-r requirements.txt (line 2)) (2.0.7)\n",
            "Requirement already satisfied: zipp>=0.5 in /usr/local/envs/SSL_Spoofing/lib/python3.7/site-packages (from importlib-metadata->numba>=0.45.1->librosa==0.9.1->-r requirements.txt (line 2)) (3.15.0)\n",
            "Installing collected packages: threadpoolctl, tensorboardX, scipy, platformdirs, packaging, llvmlite, joblib, decorator, audioread, soundfile, scikit-learn, pooch, numba, resampy, librosa\n",
            "Successfully installed audioread-3.0.1 decorator-5.1.1 joblib-1.3.2 librosa-0.9.1 llvmlite-0.39.1 numba-0.56.4 packaging-24.0 platformdirs-4.0.0 pooch-1.8.1 resampy-0.4.3 scikit-learn-1.0.2 scipy-1.7.3 soundfile-0.12.1 tensorboardX-2.5 threadpoolctl-3.1.0\n",
            "Requirement already satisfied: tensorboard in /usr/local/envs/SSL_Spoofing/lib/python3.7/site-packages (2.11.2)\n",
            "Requirement already satisfied: protobuf<4,>=3.9.2 in /usr/local/envs/SSL_Spoofing/lib/python3.7/site-packages (from tensorboard) (3.20.3)\n",
            "Requirement already satisfied: absl-py>=0.4 in /usr/local/envs/SSL_Spoofing/lib/python3.7/site-packages (from tensorboard) (2.1.0)\n",
            "Requirement already satisfied: setuptools>=41.0.0 in /usr/local/envs/SSL_Spoofing/lib/python3.7/site-packages (from tensorboard) (65.6.3)\n",
            "Requirement already satisfied: markdown>=2.6.8 in /usr/local/envs/SSL_Spoofing/lib/python3.7/site-packages (from tensorboard) (3.4.4)\n",
            "Requirement already satisfied: requests<3,>=2.21.0 in /usr/local/envs/SSL_Spoofing/lib/python3.7/site-packages (from tensorboard) (2.31.0)\n",
            "Requirement already satisfied: google-auth-oauthlib<0.5,>=0.4.1 in /usr/local/envs/SSL_Spoofing/lib/python3.7/site-packages (from tensorboard) (0.4.6)\n",
            "Requirement already satisfied: google-auth<3,>=1.6.3 in /usr/local/envs/SSL_Spoofing/lib/python3.7/site-packages (from tensorboard) (2.29.0)\n",
            "Requirement already satisfied: grpcio>=1.24.3 in /usr/local/envs/SSL_Spoofing/lib/python3.7/site-packages (from tensorboard) (1.62.2)\n",
            "Requirement already satisfied: numpy>=1.12.0 in /usr/local/envs/SSL_Spoofing/lib/python3.7/site-packages (from tensorboard) (1.21.6)\n",
            "Requirement already satisfied: tensorboard-data-server<0.7.0,>=0.6.0 in /usr/local/envs/SSL_Spoofing/lib/python3.7/site-packages (from tensorboard) (0.6.1)\n",
            "Requirement already satisfied: wheel>=0.26 in /usr/local/envs/SSL_Spoofing/lib/python3.7/site-packages (from tensorboard) (0.38.4)\n",
            "Requirement already satisfied: tensorboard-plugin-wit>=1.6.0 in /usr/local/envs/SSL_Spoofing/lib/python3.7/site-packages (from tensorboard) (1.8.1)\n",
            "Requirement already satisfied: werkzeug>=1.0.1 in /usr/local/envs/SSL_Spoofing/lib/python3.7/site-packages (from tensorboard) (2.2.3)\n",
            "Requirement already satisfied: pyasn1-modules>=0.2.1 in /usr/local/envs/SSL_Spoofing/lib/python3.7/site-packages (from google-auth<3,>=1.6.3->tensorboard) (0.3.0)\n",
            "Requirement already satisfied: rsa<5,>=3.1.4 in /usr/local/envs/SSL_Spoofing/lib/python3.7/site-packages (from google-auth<3,>=1.6.3->tensorboard) (4.9)\n",
            "Requirement already satisfied: cachetools<6.0,>=2.0.0 in /usr/local/envs/SSL_Spoofing/lib/python3.7/site-packages (from google-auth<3,>=1.6.3->tensorboard) (5.3.3)\n",
            "Requirement already satisfied: requests-oauthlib>=0.7.0 in /usr/local/envs/SSL_Spoofing/lib/python3.7/site-packages (from google-auth-oauthlib<0.5,>=0.4.1->tensorboard) (2.0.0)\n",
            "Requirement already satisfied: importlib-metadata>=4.4 in /usr/local/envs/SSL_Spoofing/lib/python3.7/site-packages (from markdown>=2.6.8->tensorboard) (6.7.0)\n",
            "Requirement already satisfied: charset-normalizer<4,>=2 in /usr/local/envs/SSL_Spoofing/lib/python3.7/site-packages (from requests<3,>=2.21.0->tensorboard) (3.3.2)\n",
            "Requirement already satisfied: urllib3<3,>=1.21.1 in /usr/local/envs/SSL_Spoofing/lib/python3.7/site-packages (from requests<3,>=2.21.0->tensorboard) (2.0.7)\n",
            "Requirement already satisfied: idna<4,>=2.5 in /usr/local/envs/SSL_Spoofing/lib/python3.7/site-packages (from requests<3,>=2.21.0->tensorboard) (3.7)\n",
            "Requirement already satisfied: certifi>=2017.4.17 in /usr/local/envs/SSL_Spoofing/lib/python3.7/site-packages (from requests<3,>=2.21.0->tensorboard) (2022.12.7)\n",
            "Requirement already satisfied: MarkupSafe>=2.1.1 in /usr/local/envs/SSL_Spoofing/lib/python3.7/site-packages (from werkzeug>=1.0.1->tensorboard) (2.1.5)\n",
            "Requirement already satisfied: zipp>=0.5 in /usr/local/envs/SSL_Spoofing/lib/python3.7/site-packages (from importlib-metadata>=4.4->markdown>=2.6.8->tensorboard) (3.15.0)\n",
            "Requirement already satisfied: typing-extensions>=3.6.4 in /usr/local/envs/SSL_Spoofing/lib/python3.7/site-packages (from importlib-metadata>=4.4->markdown>=2.6.8->tensorboard) (4.7.1)\n",
            "Requirement already satisfied: pyasn1<0.6.0,>=0.4.6 in /usr/local/envs/SSL_Spoofing/lib/python3.7/site-packages (from pyasn1-modules>=0.2.1->google-auth<3,>=1.6.3->tensorboard) (0.5.1)\n",
            "Requirement already satisfied: oauthlib>=3.0.0 in /usr/local/envs/SSL_Spoofing/lib/python3.7/site-packages (from requests-oauthlib>=0.7.0->google-auth-oauthlib<0.5,>=0.4.1->tensorboard) (3.2.2)\n",
            "Requirement already satisfied: tqdm in /usr/local/envs/SSL_Spoofing/lib/python3.7/site-packages (4.66.2)\n"
          ]
        },
        {
          "output_type": "stream",
          "name": "stderr",
          "text": [
            "WARNING: Running pip as the 'root' user can result in broken permissions and conflicting behaviour with the system package manager. It is recommended to use a virtual environment instead: https://pip.pypa.io/warnings/venv\n",
            "WARNING: Running pip as the 'root' user can result in broken permissions and conflicting behaviour with the system package manager. It is recommended to use a virtual environment instead: https://pip.pypa.io/warnings/venv\n",
            "WARNING: Running pip as the 'root' user can result in broken permissions and conflicting behaviour with the system package manager. It is recommended to use a virtual environment instead: https://pip.pypa.io/warnings/venv\n",
            "WARNING: Running pip as the 'root' user can result in broken permissions and conflicting behaviour with the system package manager. It is recommended to use a virtual environment instead: https://pip.pypa.io/warnings/venv\n"
          ]
        }
      ]
    },
    {
      "cell_type": "code",
      "source": [
        "%cd /content/SSL_Anti-spoofing/"
      ],
      "metadata": {
        "colab": {
          "base_uri": "https://localhost:8080/"
        },
        "id": "HRFkIVb7UBt4",
        "outputId": "85dbada8-5ff3-41ee-887a-10a24be57983"
      },
      "execution_count": 19,
      "outputs": [
        {
          "output_type": "stream",
          "name": "stdout",
          "text": [
            "/content/SSL_Anti-spoofing\n"
          ]
        }
      ]
    },
    {
      "cell_type": "code",
      "source": [
        "!wget https://dl.fbaipublicfiles.com/fairseq/wav2vec/xlsr2_300m.pt"
      ],
      "metadata": {
        "colab": {
          "base_uri": "https://localhost:8080/"
        },
        "id": "rgWcHZnNU_zm",
        "outputId": "ee3ed283-aa92-4167-c68c-e49f0be3880a"
      },
      "execution_count": 20,
      "outputs": [
        {
          "output_type": "stream",
          "name": "stdout",
          "text": [
            "--2024-05-01 13:00:43--  https://dl.fbaipublicfiles.com/fairseq/wav2vec/xlsr2_300m.pt\n",
            "Resolving dl.fbaipublicfiles.com (dl.fbaipublicfiles.com)... 3.162.163.51, 3.162.163.11, 3.162.163.34, ...\n",
            "Connecting to dl.fbaipublicfiles.com (dl.fbaipublicfiles.com)|3.162.163.51|:443... connected.\n",
            "HTTP request sent, awaiting response... 200 OK\n",
            "Length: 3808868242 (3.5G) [binary/octet-stream]\n",
            "Saving to: ‘xlsr2_300m.pt’\n",
            "\n",
            "xlsr2_300m.pt       100%[===================>]   3.55G  38.9MB/s    in 1m 46s  \n",
            "\n",
            "2024-05-01 13:02:29 (34.3 MB/s) - ‘xlsr2_300m.pt’ saved [3808868242/3808868242]\n",
            "\n"
          ]
        }
      ]
    },
    {
      "cell_type": "markdown",
      "source": [
        "# Task 1"
      ],
      "metadata": {
        "id": "jy1cfoXAaZu1"
      }
    },
    {
      "cell_type": "code",
      "source": [
        "%%bash\n",
        "source activate SSL_Spoofing\n",
        "\n",
        "python\n",
        "import os\n",
        "import json\n",
        "import librosa\n",
        "import numpy as np\n",
        "import pandas as pd\n",
        "import torch\n",
        "import torch.nn.functional as F\n",
        "from tqdm import tqdm\n",
        "from torch.utils.data import Dataset, DataLoader\n",
        "from model import Model\n",
        "\n",
        "# print(device)\n",
        "\n",
        "def load_model(model_path, device):\n",
        "  model = Model(args=None, device=device)\n",
        "  map_location=torch.device(device)\n",
        "  stateDic = torch.load(model_path, map_location=map_location)\n",
        "  model.load_state_dict(stateDic)\n",
        "  model = model.to(device)\n",
        "  return model\n",
        "\n",
        "def read_data(path):\n",
        "  file_names = []\n",
        "  file_paths = []\n",
        "  labels = []\n",
        "\n",
        "  def collect_file_info(directory, label):\n",
        "      for root, dirs, files in os.walk(directory):\n",
        "          for file in files:\n",
        "              if file.endswith('.wav') or file.endswith('.mp3'):\n",
        "                  file_names.append(file)\n",
        "                  file_paths.append(os.path.join(root, file))\n",
        "                  labels.append(label)\n",
        "\n",
        "  fake_dir = os.path.join(path, 'Fake')\n",
        "  real_dir = os.path.join(path, 'Real')\n",
        "\n",
        "  collect_file_info(fake_dir, 'Fake')\n",
        "  collect_file_info(real_dir, 'Real')\n",
        "\n",
        "  data = {\n",
        "      'filename': file_names,\n",
        "      'path': file_paths,\n",
        "      'fake/real': labels\n",
        "  }\n",
        "  df = pd.DataFrame(data)\n",
        "\n",
        "  return df\n",
        "\n",
        "\n",
        "class SoundDataset(Dataset):\n",
        "    def __init__(self, dataframe, dur=6, sample_rate=16000):\n",
        "        self.dataframe = dataframe\n",
        "        self.sample_rate = sample_rate\n",
        "        self.dur = dur\n",
        "        self.max_len = dur * sample_rate\n",
        "\n",
        "    def __getitem__(self, index):\n",
        "        row = self.dataframe.iloc[index]\n",
        "        # print(row)\n",
        "        audio_path = row[\"path\"]\n",
        "        label_text = row[\"fake/real\"]\n",
        "        X, fs = librosa.load(audio_path, sr=self.sample_rate)\n",
        "        x_input = self.pad_audio(X)\n",
        "\n",
        "        if label_text == \"Real\":\n",
        "          label = 1\n",
        "        else:\n",
        "          label = 0\n",
        "\n",
        "        return x_input, label\n",
        "\n",
        "    def __len__(self):\n",
        "        return len(self.dataframe)\n",
        "\n",
        "    def pad_audio(self, audio_data):\n",
        "        audio_length = audio_data.shape[0]\n",
        "        if audio_length >= self.max_len:\n",
        "            return torch.Tensor(audio_data[: self.max_len])\n",
        "        repetitions = int(self.max_len / audio_length) + 1\n",
        "        padded_audio = np.tile(audio_data, (1, repetitions))[:, : self.max_len][0]\n",
        "        return torch.Tensor(padded_audio)\n",
        "\n",
        "data_dir = '/content/Dataset/Dataset_Speech_Assignment/'\n",
        "la_model_path = '/content/drive/MyDrive/SU/Pre_trained_SSL_anti-spoofing_models/LA_model.pth'\n",
        "\n",
        "\n",
        "data_df = read_data(data_dir)\n",
        "print(data_df.shape)\n",
        "dataset = SoundDataset(data_df)\n",
        "data_loader = DataLoader(dataset, batch_size=4, shuffle=True)\n",
        "\n",
        "device = torch.device(\"cuda\" if torch.cuda.is_available() else \"cpu\")\n",
        "model = load_model(la_model_path, device)\n",
        "model.eval()\n",
        "\n",
        "true = []\n",
        "pred = []\n",
        "with torch.no_grad():\n",
        "  for data, labels in tqdm(data_loader):\n",
        "    data, labels = data.to(device), labels.to(device)\n",
        "    outputs = model(data)\n",
        "    # print(outputs)\n",
        "    probabilities = F.softmax(outputs, dim=1)\n",
        "    # print(probabilities)\n",
        "    # print('***')\n",
        "    pred.extend(probabilities[:, 1].cpu().numpy())\n",
        "    true.extend(labels.cpu().numpy())\n",
        "\n",
        "out_df = pd.DataFrame({'true_labels': true, 'predictions': pred})\n",
        "out_df.to_csv('/content/labels_and_predictions_LA.csv', index=False)"
      ],
      "metadata": {
        "colab": {
          "base_uri": "https://localhost:8080/"
        },
        "id": "QB8k4I-lwhF9",
        "outputId": "651cd394-5d9c-4cb7-d6e6-b7cbbf6da92e"
      },
      "execution_count": 35,
      "outputs": [
        {
          "output_type": "stream",
          "name": "stdout",
          "text": [
            "(300, 3)\n"
          ]
        },
        {
          "output_type": "stream",
          "name": "stderr",
          "text": [
            "\r  0%|          | 0/75 [00:00<?, ?it/s]\r  1%|▏         | 1/75 [00:02<03:24,  2.76s/it]\r  3%|▎         | 2/75 [00:04<02:16,  1.88s/it]\r  4%|▍         | 3/75 [00:04<01:30,  1.25s/it]\r  5%|▌         | 4/75 [00:04<01:02,  1.14it/s]\r  7%|▋         | 5/75 [00:05<00:49,  1.42it/s]\r  8%|▊         | 6/75 [00:06<00:57,  1.19it/s]\r  9%|▉         | 7/75 [00:07<01:08,  1.00s/it]\r 11%|█         | 8/75 [00:08<00:56,  1.19it/s]\r 12%|█▏        | 9/75 [00:08<00:53,  1.23it/s]\r 13%|█▎        | 10/75 [00:09<00:50,  1.28it/s]/usr/local/envs/SSL_Spoofing/lib/python3.7/site-packages/librosa/util/decorators.py:88: UserWarning: PySoundFile failed. Trying audioread instead.\n",
            "  return f(*args, **kwargs)\n",
            "\r 15%|█▍        | 11/75 [00:12<01:24,  1.31s/it]\r 16%|█▌        | 12/75 [00:12<01:13,  1.16s/it]\r 17%|█▋        | 13/75 [00:13<00:55,  1.11it/s]\r 19%|█▊        | 14/75 [00:13<00:47,  1.28it/s]\r 20%|██        | 15/75 [00:14<00:47,  1.27it/s]\r 21%|██▏       | 16/75 [00:17<01:20,  1.37s/it]\r 23%|██▎       | 17/75 [00:18<01:12,  1.25s/it]\r 24%|██▍       | 18/75 [00:18<00:58,  1.03s/it]\r 25%|██▌       | 19/75 [00:19<00:45,  1.22it/s]\r 27%|██▋       | 20/75 [00:20<00:46,  1.18it/s]\r 28%|██▊       | 21/75 [00:20<00:41,  1.30it/s]\r 29%|██▉       | 22/75 [00:20<00:34,  1.52it/s]\r 31%|███       | 23/75 [00:21<00:37,  1.38it/s]\r 32%|███▏      | 24/75 [00:22<00:42,  1.21it/s]/usr/local/envs/SSL_Spoofing/lib/python3.7/site-packages/librosa/util/decorators.py:88: UserWarning: PySoundFile failed. Trying audioread instead.\n",
            "  return f(*args, **kwargs)\n",
            "\r 33%|███▎      | 25/75 [00:24<00:58,  1.18s/it]\r 35%|███▍      | 26/75 [00:26<01:07,  1.38s/it]\r 36%|███▌      | 27/75 [00:30<01:37,  2.02s/it]\r 37%|███▋      | 28/75 [00:30<01:12,  1.55s/it]\r 39%|███▊      | 29/75 [00:31<00:57,  1.25s/it]\r 40%|████      | 30/75 [00:32<00:51,  1.14s/it]\r 41%|████▏     | 31/75 [00:34<01:00,  1.37s/it]\r 43%|████▎     | 32/75 [00:34<00:48,  1.12s/it]\r 44%|████▍     | 33/75 [00:34<00:36,  1.14it/s]\r 45%|████▌     | 34/75 [00:35<00:36,  1.11it/s]\r 47%|████▋     | 35/75 [00:36<00:29,  1.38it/s]\r 48%|████▊     | 36/75 [00:37<00:36,  1.07it/s]/usr/local/envs/SSL_Spoofing/lib/python3.7/site-packages/librosa/util/decorators.py:88: UserWarning: PySoundFile failed. Trying audioread instead.\n",
            "  return f(*args, **kwargs)\n",
            "\r 49%|████▉     | 37/75 [00:38<00:32,  1.16it/s]\r 51%|█████     | 38/75 [00:39<00:31,  1.17it/s]\r 52%|█████▏    | 39/75 [00:46<01:44,  2.89s/it]\r 53%|█████▎    | 40/75 [00:47<01:18,  2.25s/it]\r 55%|█████▍    | 41/75 [00:48<00:59,  1.76s/it]\r 56%|█████▌    | 42/75 [00:49<00:58,  1.76s/it]\r 57%|█████▋    | 43/75 [00:50<00:47,  1.50s/it]/usr/local/envs/SSL_Spoofing/lib/python3.7/site-packages/librosa/util/decorators.py:88: UserWarning: PySoundFile failed. Trying audioread instead.\n",
            "  return f(*args, **kwargs)\n",
            "\r 59%|█████▊    | 44/75 [00:52<00:44,  1.42s/it]\r 60%|██████    | 45/75 [00:52<00:32,  1.09s/it]\r 61%|██████▏   | 46/75 [00:53<00:28,  1.01it/s]\r 63%|██████▎   | 47/75 [00:53<00:24,  1.13it/s]/usr/local/envs/SSL_Spoofing/lib/python3.7/site-packages/librosa/util/decorators.py:88: UserWarning: PySoundFile failed. Trying audioread instead.\n",
            "  return f(*args, **kwargs)\n",
            "\r 64%|██████▍   | 48/75 [00:54<00:22,  1.18it/s]\r 65%|██████▌   | 49/75 [00:55<00:20,  1.26it/s]\r 67%|██████▋   | 50/75 [00:56<00:24,  1.03it/s]\r 68%|██████▊   | 51/75 [00:56<00:18,  1.29it/s]\r 69%|██████▉   | 52/75 [00:58<00:21,  1.09it/s]\r 71%|███████   | 53/75 [00:58<00:19,  1.16it/s]\r 72%|███████▏  | 54/75 [00:59<00:16,  1.29it/s]\r 73%|███████▎  | 55/75 [01:01<00:22,  1.15s/it]\r 75%|███████▍  | 56/75 [01:02<00:22,  1.21s/it]\r 76%|███████▌  | 57/75 [01:03<00:21,  1.19s/it]\r 77%|███████▋  | 58/75 [01:04<00:16,  1.02it/s]/usr/local/envs/SSL_Spoofing/lib/python3.7/site-packages/librosa/util/decorators.py:88: UserWarning: PySoundFile failed. Trying audioread instead.\n",
            "  return f(*args, **kwargs)\n",
            "\r 79%|███████▊  | 59/75 [01:05<00:15,  1.03it/s]\r 80%|████████  | 60/75 [01:06<00:12,  1.16it/s]\r 81%|████████▏ | 61/75 [01:07<00:13,  1.04it/s]\r 83%|████████▎ | 62/75 [01:08<00:11,  1.09it/s]\r 84%|████████▍ | 63/75 [01:08<00:10,  1.11it/s]\r 85%|████████▌ | 64/75 [01:09<00:09,  1.12it/s]\r 87%|████████▋ | 65/75 [01:10<00:09,  1.03it/s]\r 88%|████████▊ | 66/75 [01:11<00:07,  1.22it/s]\r 89%|████████▉ | 67/75 [01:12<00:06,  1.23it/s]\r 91%|█████████ | 68/75 [01:12<00:05,  1.24it/s]\r 92%|█████████▏| 69/75 [01:13<00:03,  1.52it/s]\r 93%|█████████▎| 70/75 [01:15<00:05,  1.16s/it]\r 95%|█████████▍| 71/75 [01:16<00:04,  1.09s/it]\r 96%|█████████▌| 72/75 [01:17<00:03,  1.16s/it]\r 97%|█████████▋| 73/75 [01:18<00:01,  1.04it/s]\r 99%|█████████▊| 74/75 [01:18<00:00,  1.24it/s]\r100%|██████████| 75/75 [01:19<00:00,  1.41it/s]\r100%|██████████| 75/75 [01:19<00:00,  1.06s/it]\n"
          ]
        }
      ]
    },
    {
      "cell_type": "markdown",
      "source": [
        "# Task 1&2 - Metrics and analysis\n"
      ],
      "metadata": {
        "id": "5QlDo3aMWveh"
      }
    },
    {
      "cell_type": "code",
      "source": [
        "import pandas as pd\n",
        "import numpy as np\n",
        "import sklearn\n",
        "import matplotlib.pyplot as plt\n",
        "from sklearn.metrics import roc_auc_score, roc_curve, auc\n",
        "\n",
        "metric_df = pd.read_csv('/content/labels_and_predictions_LA.csv')"
      ],
      "metadata": {
        "id": "0RjkKjgqWyZo"
      },
      "execution_count": 65,
      "outputs": []
    },
    {
      "cell_type": "code",
      "source": [
        "true = metric_df['true_labels']\n",
        "pred = metric_df['predictions']"
      ],
      "metadata": {
        "id": "7UWX_spUXScX"
      },
      "execution_count": 39,
      "outputs": []
    },
    {
      "cell_type": "code",
      "source": [
        "def compute_eer_auc(label, pred):\n",
        "    fpr, tpr, threshold = sklearn.metrics.roc_curve(label, pred)\n",
        "    auc = roc_auc_score(label, pred)\n",
        "    fnr = 1 - tpr\n",
        "\n",
        "    eer_threshold = threshold[np.nanargmin(np.absolute((fnr - fpr)))]\n",
        "\n",
        "    eer_1 = fpr[np.nanargmin(np.absolute((fnr - fpr)))]\n",
        "    eer_2 = fnr[np.nanargmin(np.absolute((fnr - fpr)))]\n",
        "\n",
        "    eer = (eer_1 + eer_2) / 2\n",
        "\n",
        "    return eer, auc\n",
        "\n",
        "\n",
        "def plot_roc_curve(true_labels, predicted_probabilities):\n",
        "    fpr, tpr, thresholds = roc_curve(true_labels, predicted_probabilities)\n",
        "\n",
        "    roc_auc = auc(fpr, tpr)\n",
        "\n",
        "    plt.figure()\n",
        "    plt.plot(fpr, tpr, color='darkorange', lw=2, label='ROC curve (AUC = %0.2f)' % roc_auc)\n",
        "    plt.plot([0, 1], [0, 1], color='navy', lw=2, linestyle='--')\n",
        "    plt.xlim([0.0, 1.0])\n",
        "    plt.ylim([0.0, 1.05])\n",
        "    plt.xlabel('False Positive Rate')\n",
        "    plt.ylabel('True Positive Rate')\n",
        "    plt.title('Receiver Operating Characteristic (ROC) Curve')\n",
        "    plt.legend(loc='lower right')\n",
        "    plt.savefig('/content/custom_data_roc_curve.png')\n",
        "    plt.show()\n",
        "\n",
        "    return roc_auc"
      ],
      "metadata": {
        "id": "Q1mW07PUYQIC"
      },
      "execution_count": 69,
      "outputs": []
    },
    {
      "cell_type": "code",
      "source": [
        "eer, auc_score = compute_eer_auc(true, pred)\n",
        "print('EER: ', eer)\n",
        "print('AUC: ', auc_score)"
      ],
      "metadata": {
        "colab": {
          "base_uri": "https://localhost:8080/"
        },
        "id": "5fiQW0nAW7lR",
        "outputId": "1a6b6ca8-fae8-426f-dcb1-da6b8848986e"
      },
      "execution_count": 64,
      "outputs": [
        {
          "output_type": "stream",
          "name": "stdout",
          "text": [
            "EER:  0.4458333333333333\n",
            "AUC:  0.594212962962963\n"
          ]
        }
      ]
    },
    {
      "cell_type": "code",
      "source": [
        "plot_roc_curve(true, pred)"
      ],
      "metadata": {
        "colab": {
          "base_uri": "https://localhost:8080/",
          "height": 489
        },
        "id": "4NsWYIiXZAb5",
        "outputId": "379df653-fd9e-4b0e-b0a6-a39a3f3091ec"
      },
      "execution_count": 70,
      "outputs": [
        {
          "output_type": "display_data",
          "data": {
            "text/plain": [
              "<Figure size 640x480 with 1 Axes>"
            ],
            "image/png": "[encoded data removed]"
          },
          "metadata": {}
        },
        {
          "output_type": "execute_result",
          "data": {
            "text/plain": [
              "0.594212962962963"
            ]
          },
          "metadata": {},
          "execution_count": 70
        }
      ]
    },
    {
      "cell_type": "code",
      "source": [
        "print(eer, auc)"
      ],
      "metadata": {
        "colab": {
          "base_uri": "https://localhost:8080/"
        },
        "id": "DVUJ-aB2XftY",
        "outputId": "cba4d91b-108b-4954-aee2-47f89c57cf52"
      },
      "execution_count": 54,
      "outputs": [
        {
          "output_type": "stream",
          "name": "stdout",
          "text": [
            "0.4458333333333333 0.594212962962963\n"
          ]
        }
      ]
    }
  ]
}