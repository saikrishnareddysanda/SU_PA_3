{
  "nbformat": 4,
  "nbformat_minor": 0,
  "metadata": {
    "colab": {
      "provenance": [],
      "authorship_tag": "ABX9TyPTmsTZZC3tPaTfZs44zI/1"
    },
    "kernelspec": {
      "name": "python3",
      "display_name": "Python 3"
    },
    "language_info": {
      "name": "python"
    }
  },
  "cells": [
    {
      "cell_type": "code",
      "execution_count": 1,
      "metadata": {
        "colab": {
          "base_uri": "https://localhost:8080/"
        },
        "id": "zYOGoGEpn1Lt",
        "outputId": "4341614e-7619-4213-ed8d-1013d9a44982"
      },
      "outputs": [
        {
          "output_type": "stream",
          "name": "stdout",
          "text": [
            "Mounted at /content/drive\n"
          ]
        }
      ],
      "source": [
        "from google.colab import drive\n",
        "drive.mount('/content/drive', force_remount=True)"
      ]
    },
    {
      "cell_type": "code",
      "source": [
        "import zipfile"
      ],
      "metadata": {
        "id": "MS4uHeuhpXBU"
      },
      "execution_count": 2,
      "outputs": []
    },
    {
      "cell_type": "markdown",
      "source": [
        "# Get Dataset"
      ],
      "metadata": {
        "id": "i2HjYH5opy5x"
      }
    },
    {
      "cell_type": "code",
      "source": [
        "def unzip_file(zip_file, extract_to):\n",
        "    with zipfile.ZipFile(zip_file, 'r') as zip_ref:\n",
        "        zip_ref.extractall(extract_to)\n",
        "\n",
        "zip_file = 'drive/MyDrive/Speech_understanding/Dataset_Speech_Assignment.zip'\n",
        "extract_to = 'Dataset'\n",
        "unzip_file(zip_file, extract_to)"
      ],
      "metadata": {
        "id": "Pa2QJiBeo7tR"
      },
      "execution_count": 3,
      "outputs": []
    },
    {
      "cell_type": "markdown",
      "source": [
        "# Clone required repos and Install required packages"
      ],
      "metadata": {
        "id": "pt-ruxzduIkB"
      }
    },
    {
      "cell_type": "code",
      "source": [
        "!git clone https://github.com/TakHemlata/SSL_Anti-spoofing.git"
      ],
      "metadata": {
        "colab": {
          "base_uri": "https://localhost:8080/"
        },
        "id": "Z_O8ZKCOpmjg",
        "outputId": "25b91d52-1d04-477b-8a53-5beab612490b"
      },
      "execution_count": 4,
      "outputs": [
        {
          "output_type": "stream",
          "name": "stdout",
          "text": [
            "Cloning into 'SSL_Anti-spoofing'...\n",
            "remote: Enumerating objects: 1579, done.\u001b[K\n",
            "remote: Counting objects: 100% (90/90), done.\u001b[K\n",
            "remote: Compressing objects: 100% (42/42), done.\u001b[K\n",
            "remote: Total 1579 (delta 52), reused 82 (delta 48), pack-reused 1489\u001b[K\n",
            "Receiving objects: 100% (1579/1579), 30.57 MiB | 17.52 MiB/s, done.\n",
            "Resolving deltas: 100% (293/293), done.\n"
          ]
        }
      ]
    },
    {
      "cell_type": "code",
      "source": [
        "!!git clone https://github.com/pytorch/fairseq\n",
        "%cd /content/fairseq/\n",
        "!python -m pip install --editable .\n",
        "%cd /content"
      ],
      "metadata": {
        "colab": {
          "base_uri": "https://localhost:8080/"
        },
        "id": "3QJh3iVDs3rZ",
        "outputId": "d5510742-6bb9-4102-da54-85cab44f1164"
      },
      "execution_count": null,
      "outputs": [
        {
          "output_type": "stream",
          "name": "stdout",
          "text": [
            "/content/fairseq\n",
            "Obtaining file:///content/fairseq\n"
          ]
        }
      ]
    },
    {
      "cell_type": "code",
      "source": [],
      "metadata": {
        "id": "KxAJtstPuHQ_"
      },
      "execution_count": null,
      "outputs": []
    }
  ]
}